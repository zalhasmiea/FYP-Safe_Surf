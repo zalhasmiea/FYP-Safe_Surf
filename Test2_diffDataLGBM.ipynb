{
 "cells": [
  {
   "cell_type": "code",
   "execution_count": null,
   "id": "c855f589",
   "metadata": {},
   "outputs": [],
   "source": [
    "from ucimlrepo import fetch_ucirepo \n",
    "  \n",
    "# fetch dataset \n",
    "phishing_websites = fetch_ucirepo(id=327) \n",
    "  \n",
    "# data (as pandas dataframes) \n",
    "X = phishing_websites.data.features \n",
    "y = phishing_websites.data.targets \n",
    "  \n",
    "# metadata \n",
    "print(phishing_websites.metadata) \n",
    "  \n",
    "# variable information \n",
    "print(phishing_websites.variables) \n"
   ]
  }
 ],
 "metadata": {
  "kernelspec": {
   "display_name": "Python 3",
   "language": "python",
   "name": "python3"
  },
  "language_info": {
   "name": "python",
   "version": "3.11.9"
  }
 },
 "nbformat": 4,
 "nbformat_minor": 5
}
